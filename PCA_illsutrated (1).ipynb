{
  "cells": [
    {
      "cell_type": "code",
      "execution_count": 11,
      "id": "e39c342f",
      "metadata": {
        "colab": {
          "base_uri": "https://localhost:8080/"
        },
        "id": "e39c342f",
        "outputId": "424705d8-08ca-4384-b40d-a47775b66ff0"
      },
      "outputs": [
        {
          "output_type": "stream",
          "name": "stdout",
          "text": [
            "Formatted Array:\n",
            "[[0.5095 0.1008 0.2536]\n",
            " [0.9174 0.8369 0.2928]\n",
            " [0.9019 0.2805 0.4876]\n",
            " [0.9286 0.0355 0.7556]\n",
            " [0.7874 0.8747 0.2142]\n",
            " [0.5627 0.636  0.8093]\n",
            " [0.5969 0.895  0.493 ]\n",
            " [0.9278 0.9042 0.1975]\n",
            " [0.5797 0.4566 0.5816]\n",
            " [0.5774 0.3322 0.546 ]\n",
            " [0.411  0.1488 0.6967]\n",
            " [0.4012 0.63   0.0557]\n",
            " [0.8526 0.6399 0.4371]\n",
            " [0.6428 0.605  0.0145]\n",
            " [0.2281 0.9228 0.9026]\n",
            " [0.0516 0.7573 0.6074]\n",
            " [0.7527 0.6116 0.6995]\n",
            " [0.4161 0.9782 0.7334]\n",
            " [0.4925 0.3456 0.6598]\n",
            " [0.4502 0.4417 0.4655]\n",
            " [0.4831 0.6587 0.345 ]\n",
            " [0.7908 0.5748 0.7283]\n",
            " [0.3184 0.5996 0.0828]\n",
            " [0.2161 0.1894 0.3832]\n",
            " [0.4234 0.9257 0.5062]\n",
            " [0.6299 0.0656 0.1043]\n",
            " [0.3773 0.0988 0.652 ]\n",
            " [0.588  0.7683 0.9889]\n",
            " [0.4771 0.5116 0.6639]\n",
            " [0.3459 0.8174 0.4179]\n",
            " [0.4794 0.3648 0.4271]\n",
            " [0.5614 0.9641 0.6752]\n",
            " [0.7499 0.641  0.209 ]\n",
            " [0.5404 0.532  0.0092]\n",
            " [0.1142 0.9697 0.3728]\n",
            " [0.4887 0.5036 0.8089]\n",
            " [0.8705 0.6958 0.4551]\n",
            " [0.671  0.6144 0.4947]\n",
            " [0.6177 0.9113 0.1216]\n",
            " [0.8586 0.8823 0.3304]\n",
            " [0.1657 0.6436 0.6545]\n",
            " [0.5876 0.0595 0.0191]\n",
            " [0.6786 0.2448 0.4021]\n",
            " [0.5211 0.9087 0.5387]\n",
            " [0.9808 0.2267 0.819 ]\n",
            " [0.7621 0.8969 0.9168]\n",
            " [0.8969 0.2146 0.6197]\n",
            " [0.0651 0.781  0.5931]\n",
            " [0.3837 0.8158 0.0406]\n",
            " [0.3201 0.5193 0.5036]\n",
            " [0.2875 0.1282 0.2975]\n",
            " [0.4748 0.6313 0.3793]\n",
            " [0.2621 0.5733 0.596 ]\n",
            " [0.4143 0.642  0.1448]\n",
            " [0.1545 0.7432 0.8256]\n",
            " [0.6168 0.171  0.8277]\n",
            " [0.3481 0.2311 0.6103]\n",
            " [0.3205 0.9505 0.8478]\n",
            " [0.6037 0.9403 0.8193]\n",
            " [0.9146 0.8709 0.6777]\n",
            " [0.1436 0.713  0.1196]\n",
            " [0.8177 0.12   0.2148]\n",
            " [0.1273 0.6055 0.5006]\n",
            " [0.4395 0.0059 0.1893]\n",
            " [0.0208 0.5315 0.169 ]\n",
            " [0.0011 0.2836 0.579 ]\n",
            " [0.726  0.0327 0.3391]\n",
            " [0.3915 0.1026 0.8793]\n",
            " [0.1548 0.7948 0.6095]\n",
            " [0.0108 0.7323 0.964 ]\n",
            " [0.5697 0.8189 0.1994]\n",
            " [0.3032 0.154  0.7503]\n",
            " [0.3958 0.8664 0.1624]\n",
            " [0.3193 0.8952 0.9714]\n",
            " [0.6486 0.9341 0.1984]\n",
            " [0.8636 0.7611 0.4124]\n",
            " [0.3092 0.5523 0.0423]\n",
            " [0.1635 0.6919 0.4739]\n",
            " [0.9403 0.2166 0.056 ]\n",
            " [0.8068 0.3369 0.9571]\n",
            " [0.2708 0.8625 0.7615]\n",
            " [0.0054 0.6406 0.8015]\n",
            " [0.3489 0.8988 0.5619]\n",
            " [0.9149 0.9769 0.8272]\n",
            " [0.959  0.0213 0.5498]\n",
            " [0.4842 0.1582 0.2901]\n",
            " [0.8918 0.8864 0.5431]\n",
            " [0.7897 0.8263 0.5391]\n",
            " [0.7786 0.9834 0.6035]\n",
            " [0.7455 0.2607 0.4402]\n",
            " [0.8872 0.9157 0.6855]\n",
            " [0.5295 0.8639 0.139 ]\n",
            " [0.6359 0.9748 0.613 ]\n",
            " [0.3561 0.7731 0.1433]\n",
            " [0.0452 0.858  0.3268]\n",
            " [0.7036 0.4717 0.1811]\n",
            " [0.6629 0.2385 0.2191]\n",
            " [0.4193 0.0453 0.5773]\n",
            " [0.5344 0.929  0.5385]\n",
            " [0.7411 0.6756 0.8674]]\n"
          ]
        }
      ],
      "source": [
        "import numpy as np\n",
        "import matplotlib.pyplot as plt\n",
        "\n",
        "# Step 1: Create some sample data (replace this with your dataset)\n",
        "data = np.random.rand(100, 3)  # 100 samples with 3 features\n",
        "np.set_printoptions(precision=4, suppress=True)\n",
        "print(\"Formatted Array:\")\n",
        "print(data)"
      ]
    },
    {
      "cell_type": "code",
      "execution_count": null,
      "id": "43176e07",
      "metadata": {
        "colab": {
          "base_uri": "https://localhost:8080/"
        },
        "id": "43176e07",
        "outputId": "d09c31e8-5239-4271-be73-3ea544a92724"
      },
      "outputs": [
        {
          "output_type": "stream",
          "name": "stdout",
          "text": [
            "[0.5404 0.491  0.5496] [0.2871 0.3222 0.2684]\n",
            "[[-0.3658  1.4253  0.5645]\n",
            " [-0.5399 -1.3727  0.9821]\n",
            " [ 0.2537  1.2949  0.34  ]\n",
            " [-1.6456  1.294   0.9757]\n",
            " [-1.0502  0.8913 -0.3814]\n",
            " [-0.5216  0.0269  0.0546]\n",
            " [-1.0224 -1.0464  0.5391]\n",
            " [-0.0898 -1.4271 -1.7888]\n",
            " [ 0.9536 -0.5442  0.6149]\n",
            " [ 1.0054  1.2765 -0.7522]\n",
            " [ 1.3909 -1.0538  0.7436]\n",
            " [ 1.2882  1.2701  1.6554]\n",
            " [ 0.8629  0.2088 -0.9408]\n",
            " [ 0.5003 -0.9152  1.1147]\n",
            " [ 0.4737 -0.9039  1.3978]\n",
            " [ 0.0686 -1.0171  0.3205]\n",
            " [-1.1833  0.9222 -0.2049]\n",
            " [ 0.486   1.0185  1.1927]\n",
            " [-0.202  -1.1576  1.1327]\n",
            " [-0.496   1.4672  0.3634]\n",
            " [ 0.4158  0.6023  0.0532]\n",
            " [ 1.4381 -0.5208  0.4678]\n",
            " [ 0.9811  1.1268  0.5504]\n",
            " [ 0.4195 -0.8363 -0.3527]\n",
            " [ 0.8199 -0.005   0.0603]\n",
            " [ 0.1399 -1.2254 -0.1067]\n",
            " [ 0.9995  0.1146 -1.2236]\n",
            " [-0.2156 -0.9742  0.2841]\n",
            " [ 0.1033 -1.4086 -0.8123]\n",
            " [ 0.9378  1.1089 -1.8342]\n",
            " [-0.4684  1.4436 -0.1296]\n",
            " [-1.5689 -0.31   -0.6878]\n",
            " [ 1.0887  1.085   1.441 ]\n",
            " [-0.1729 -0.815   0.6526]\n",
            " [-0.1129 -0.9153  1.3306]\n",
            " [ 0.729  -1.0499  1.0978]\n",
            " [-0.5718 -0.0591  0.6465]\n",
            " [-1.3079 -1.4344 -1.1496]\n",
            " [ 0.0188 -1.2804 -1.2114]\n",
            " [ 1.0402 -0.905  -0.8405]\n",
            " [-0.1285  1.3065  0.993 ]\n",
            " [-0.1605  0.372   1.0864]\n",
            " [ 0.5751  1.1716  0.1998]\n",
            " [ 1.5564 -1.2172 -1.5399]\n",
            " [ 1.5382 -0.1801 -1.7052]\n",
            " [ 1.165  -0.6156 -1.1941]\n",
            " [-0.7097 -0.7322  1.665 ]\n",
            " [ 1.3452  0.6554  0.3331]\n",
            " [-0.1693 -0.2797 -1.9928]\n",
            " [ 1.3404  0.7651 -1.3771]\n",
            " [ 0.2685 -1.0136 -0.3062]\n",
            " [ 0.5046 -1.325   0.7294]\n",
            " [ 0.2884  0.8316 -1.5258]\n",
            " [-1.2295  1.2427  1.0529]\n",
            " [ 1.1504  1.3603 -0.8362]\n",
            " [ 1.1445  0.649  -1.6625]\n",
            " [ 0.8239 -1.1715 -0.4868]\n",
            " [-1.0871 -0.2035 -0.0437]\n",
            " [-1.6775 -1.3662 -0.4226]\n",
            " [-1.6105  1.2133  1.1535]\n",
            " [ 1.2994  1.1654  0.6703]\n",
            " [ 0.0441  1.1766  0.822 ]\n",
            " [-1.6912  0.427  -0.1403]\n",
            " [ 1.5077  0.9002  1.1602]\n",
            " [-1.1145  1.1139 -0.7883]\n",
            " [ 0.0378  0.6576  0.1575]\n",
            " [-1.8283  0.5247  0.4646]\n",
            " [-0.968  -0.3186  1.1548]\n",
            " [-0.1172 -0.4462  0.8724]\n",
            " [-0.3183  0.1712 -0.3509]\n",
            " [ 1.4659  1.3699 -0.2283]\n",
            " [-0.052  -0.3775 -1.106 ]\n",
            " [-1.7631 -0.8666 -0.3204]\n",
            " [ 0.3564 -1.1916 -1.9928]\n",
            " [ 0.2605  1.2249  0.3014]\n",
            " [-0.9688  0.2621 -0.9023]\n",
            " [ 0.4823 -0.8387  1.104 ]\n",
            " [-0.4824 -1.3229  0.5344]\n",
            " [-1.8003 -0.0281 -1.2039]\n",
            " [-1.6415  1.2104  0.7878]\n",
            " [ 1.3485  1.462   0.2956]\n",
            " [-1.2992 -0.5859 -1.9717]\n",
            " [-0.0497 -1.4145 -0.5138]\n",
            " [ 1.2232  1.4674  0.9784]\n",
            " [-1.568   0.5633 -1.4397]\n",
            " [ 1.4238 -1.1323  0.8814]\n",
            " [-0.9268 -1.386   1.0425]\n",
            " [-0.8399  1.0817  1.6183]\n",
            " [ 0.7154  1.5602  0.3337]\n",
            " [ 0.2295  1.4069 -0.2184]\n",
            " [-1.7609  0.1525  0.5438]\n",
            " [-0.8441 -0.759  -1.6717]\n",
            " [ 1.195  -0.9175 -1.4716]\n",
            " [-0.3079 -0.6821 -1.6577]\n",
            " [-1.2301 -0.064  -1.0521]\n",
            " [-1.1281 -0.5232  0.8615]\n",
            " [ 0.641  -1.0868  0.0397]\n",
            " [-1.3942 -1.2975 -0.0499]\n",
            " [ 1.3429 -0.7365  1.3038]\n",
            " [ 0.713   1.215   0.8719]]\n"
          ]
        }
      ],
      "source": [
        "# Step 2: Standardize the data\n",
        "mean = np.mean(data, axis=0)\n",
        "std_dev = np.std(data, axis=0)\n",
        "standardized_data = (data - mean) / std_dev\n",
        "print (mean, std_dev)\n",
        "print(standardized_data)"
      ]
    },
    {
      "cell_type": "code",
      "execution_count": null,
      "id": "ea61f21c",
      "metadata": {
        "colab": {
          "base_uri": "https://localhost:8080/"
        },
        "id": "ea61f21c",
        "outputId": "c3ae2317-77ca-4c7b-ae8b-1912f292a5d9"
      },
      "outputs": [
        {
          "output_type": "stream",
          "name": "stdout",
          "text": [
            "9 (3, 3)\n",
            "[[ 1.0101  0.0711 -0.0053]\n",
            " [ 0.0711  1.0101  0.153 ]\n",
            " [-0.0053  0.153   1.0101]]\n"
          ]
        }
      ],
      "source": [
        "# Step 3: Compute the covariance matrix\n",
        "covariance_matrix = np.cov(standardized_data, rowvar=False)\n",
        "size_cc = covariance_matrix.size\n",
        "shape_cc = covariance_matrix.shape\n",
        "print (size_cc, shape_cc)\n",
        "print(covariance_matrix)"
      ]
    },
    {
      "cell_type": "code",
      "execution_count": null,
      "id": "c7506e44",
      "metadata": {
        "colab": {
          "base_uri": "https://localhost:8080/"
        },
        "id": "c7506e44",
        "outputId": "047575c3-4a8a-43a2-fb95-3135e5e37db9"
      },
      "outputs": [
        {
          "output_type": "stream",
          "name": "stdout",
          "text": [
            "[0.8393 1.0141 1.1769]\n",
            "[[-0.3124  0.9068  0.283 ]\n",
            " [ 0.7027  0.0201  0.7112]\n",
            " [-0.6392 -0.421   0.6436]]\n"
          ]
        }
      ],
      "source": [
        "# Step 4: Compute the eigenvalues and eigenvectors of the covariance matrix\n",
        "eigenvalues, eigenvectors = np.linalg.eigh(covariance_matrix)\n",
        "print(eigenvalues)\n",
        "print(eigenvectors)"
      ]
    },
    {
      "cell_type": "code",
      "execution_count": null,
      "id": "6de0189c",
      "metadata": {
        "colab": {
          "base_uri": "https://localhost:8080/"
        },
        "id": "6de0189c",
        "outputId": "4bc5f483-7cb8-4480-ced5-58da888e11e9"
      },
      "outputs": [
        {
          "output_type": "stream",
          "name": "stdout",
          "text": [
            "[1.1769 1.0141 0.8393]\n",
            "[[ 0.283   0.9068 -0.3124]\n",
            " [ 0.7112  0.0201  0.7027]\n",
            " [ 0.6436 -0.421  -0.6392]]\n"
          ]
        }
      ],
      "source": [
        "# Step 5: Sort eigenvalues and corresponding eigenvectors in descending order\n",
        "sorted_indices = np.argsort(eigenvalues)[::-1]\n",
        "eigenvalues = eigenvalues[sorted_indices]\n",
        "eigenvectors = eigenvectors[:, sorted_indices]\n",
        "print(eigenvalues)\n",
        "print(eigenvectors)"
      ]
    },
    {
      "cell_type": "code",
      "execution_count": null,
      "id": "4146c356",
      "metadata": {
        "id": "4146c356"
      },
      "outputs": [],
      "source": [
        "# Step 6: Choose the number of components (or a threshold for explained variance)\n",
        "n_components = 2  # Choose the number of principal components\n"
      ]
    },
    {
      "cell_type": "code",
      "execution_count": null,
      "id": "917bca3e",
      "metadata": {
        "id": "917bca3e"
      },
      "outputs": [],
      "source": [
        "# Step 7: Select the top 'n_components' eigenvectors\n",
        "selected_eigenvectors = eigenvectors[:, :n_components]\n",
        "\n"
      ]
    },
    {
      "cell_type": "code",
      "execution_count": null,
      "id": "6eece490",
      "metadata": {
        "id": "6eece490"
      },
      "outputs": [],
      "source": [
        "# Step 8: Project the data onto the selected eigenvectors to obtain the principal components\n",
        "final_result = np.dot(standardized_data, selected_eigenvectors)\n",
        "\n"
      ]
    },
    {
      "cell_type": "code",
      "execution_count": null,
      "id": "22c16666",
      "metadata": {
        "colab": {
          "base_uri": "https://localhost:8080/"
        },
        "id": "22c16666",
        "outputId": "e57ecfd8-5b0d-4da1-cc1a-88dfa9a48a4b"
      },
      "outputs": [
        {
          "output_type": "stream",
          "name": "stdout",
          "text": [
            "Final Result after PCA:\n",
            "[[ 1.2734 -0.5406]\n",
            " [-0.497  -0.9307]\n",
            " [ 1.2115  0.113 ]\n",
            " [ 1.0824 -1.877 ]\n",
            " [ 0.0912 -0.7738]\n",
            " [-0.0933 -0.4955]\n",
            " [-0.6866 -1.1752]\n",
            " [-2.1915  0.6429]\n",
            " [ 0.2786  0.5949]\n",
            " [ 0.7083  1.2541]\n",
            " [ 0.1227  0.927 ]\n",
            " [ 2.3331  0.4968]\n",
            " [-0.2128  1.1828]\n",
            " [ 0.2081 -0.034 ]\n",
            " [ 0.3908 -0.1771]\n",
            " [-0.4976 -0.0932]\n",
            " [ 0.1891 -0.9682]\n",
            " [ 1.6294 -0.0409]\n",
            " [-0.1515 -0.6834]\n",
            " [ 1.1369 -0.5732]\n",
            " [ 0.5803  0.3668]\n",
            " [ 0.3377  1.0967]\n",
            " [ 1.4332  0.6806]\n",
            " [-0.703   0.5121]\n",
            " [ 0.2673  0.718 ]\n",
            " [-0.9005  0.1472]\n",
            " [-0.4231  1.4238]\n",
            " [-0.571  -0.3348]\n",
            " [-1.4952  0.4073]\n",
            " [-0.1264  1.645 ]\n",
            " [ 0.8107 -0.3411]\n",
            " [-1.1071 -1.1394]\n",
            " [ 2.0071  0.4025]\n",
            " [-0.2086 -0.448 ]\n",
            " [ 0.1735 -0.681 ]\n",
            " [ 0.1662  0.1777]\n",
            " [ 0.2122 -0.7919]\n",
            " [-2.1301 -0.7309]\n",
            " [-1.6849  0.5013]\n",
            " [-0.8901  1.2789]\n",
            " [ 1.5318 -0.5083]\n",
            " [ 0.9183 -0.5954]\n",
            " [ 1.1246  0.461 ]\n",
            " [-1.4162  2.0352]\n",
            " [-0.7902  2.1091]\n",
            " [-0.8766  1.5468]\n",
            " [ 0.3499 -1.3593]\n",
            " [ 1.0611  1.0929]\n",
            " [-1.5293  0.6798]\n",
            " [ 0.0372  1.8107]\n",
            " [-0.8419  0.352 ]\n",
            " [-0.3301  0.1238]\n",
            " [-0.3089  0.9207]\n",
            " [ 1.2134 -1.5332]\n",
            " [ 0.7548  1.4227]\n",
            " [-0.2845  1.7509]\n",
            " [-0.9133  0.9285]\n",
            " [-0.4805 -0.9715]\n",
            " [-1.7183 -1.3708]\n",
            " [ 1.1494 -1.9217]\n",
            " [ 1.6279  0.9197]\n",
            " [ 1.3783 -0.2824]\n",
            " [-0.2652 -1.466 ]\n",
            " [ 1.8135  0.8969]\n",
            " [-0.0306 -0.6564]\n",
            " [ 0.5797 -0.0188]\n",
            " [ 0.1548 -1.843 ]\n",
            " [ 0.2426 -1.3704]\n",
            " [ 0.2109 -0.4826]\n",
            " [-0.1942 -0.1374]\n",
            " [ 1.2422  1.453 ]\n",
            " [-0.995   0.4109]\n",
            " [-1.3214 -1.4814]\n",
            " [-2.029   1.1382]\n",
            " [ 1.1388  0.134 ]\n",
            " [-0.6685 -0.4934]\n",
            " [ 0.2505 -0.0443]\n",
            " [-0.7334 -0.6891]\n",
            " [-1.3042 -1.1263]\n",
            " [ 0.9032 -1.7959]\n",
            " [ 1.6116  1.1279]\n",
            " [-2.0532 -0.3598]\n",
            " [-1.3507  0.1428]\n",
            " [ 2.0194  0.7269]\n",
            " [-0.9697 -0.8044]\n",
            " [ 0.1649  0.8973]\n",
            " [-0.577  -1.3072]\n",
            " [ 1.573  -1.4212]\n",
            " [ 1.5268  0.5397]\n",
            " [ 0.925   0.3284]\n",
            " [-0.0399 -1.8227]\n",
            " [-1.8544 -0.0769]\n",
            " [-1.2613  1.6847]\n",
            " [-1.639   0.405 ]\n",
            " [-1.0707 -0.6739]\n",
            " [-0.1369 -1.3962]\n",
            " [-0.566   0.5427]\n",
            " [-1.3494 -1.2694]\n",
            " [ 0.6954  0.654 ]\n",
            " [ 1.627   0.304 ]]\n"
          ]
        }
      ],
      "source": [
        "# Step 9: Print the final result\n",
        "print(\"Final Result after PCA:\")\n",
        "print(final_result)\n",
        "\n"
      ]
    },
    {
      "cell_type": "code",
      "execution_count": null,
      "id": "e9e323cc",
      "metadata": {
        "colab": {
          "base_uri": "https://localhost:8080/",
          "height": 472
        },
        "id": "e9e323cc",
        "outputId": "0a390797-65c5-406b-e09c-b3bba4e87187"
      },
      "outputs": [
        {
          "output_type": "display_data",
          "data": {
            "text/plain": [
              "<Figure size 640x480 with 1 Axes>"
            ],
            "image/png": "[encoded data removed]"
          },
          "metadata": {}
        }
      ],
      "source": [
        "# Step 10: Visualize the results (for 2D data)\n",
        "if n_components == 2:\n",
        "    plt.scatter(final_result[:, 0], final_result[:, 1])\n",
        "    plt.xlabel('Principal Component 1')\n",
        "    plt.ylabel('Principal Component 2')\n",
        "    plt.title('PCA Result')\n",
        "    plt.show()\n"
      ]
    },
    {
      "cell_type": "code",
      "execution_count": null,
      "id": "b27f7446",
      "metadata": {
        "id": "b27f7446"
      },
      "outputs": [],
      "source": []
    }
  ],
  "metadata": {
    "kernelspec": {
      "display_name": "Python 3 (ipykernel)",
      "language": "python",
      "name": "python3"
    },
    "language_info": {
      "codemirror_mode": {
        "name": "ipython",
        "version": 3
      },
      "file_extension": ".py",
      "mimetype": "text/x-python",
      "name": "python",
      "nbconvert_exporter": "python",
      "pygments_lexer": "ipython3",
      "version": "3.11.5"
    },
    "colab": {
      "provenance": []
    }
  },
  "nbformat": 4,
  "nbformat_minor": 5
}